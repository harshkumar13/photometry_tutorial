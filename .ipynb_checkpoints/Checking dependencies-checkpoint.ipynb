{
 "cells": [
  {
   "cell_type": "markdown",
   "metadata": {},
   "source": [
    "**Lecture : Prof. Mansi Manoj Kasliwal**, California Institute of Techonology (Caltech), Pasadena, LA.\n",
    "\n"
   ]
  },
  {
   "cell_type": "markdown",
   "metadata": {},
   "source": [
    "Workshop:\n",
    "\n",
    "` Harsh Kumar (Graduate student Indian Institute of Techonology, Bombay (IITB), LSSTC Data Science Fellow)`\n",
    "\n",
    "` Gaurav Waratkar (Graduate student Indian Institute of Techonology, Bombay (IITB))`"
   ]
  },
  {
   "cell_type": "markdown",
   "metadata": {},
   "source": [
    "# This notboook tests whether all dependencies and python modeules are installed properly for EMGW workshop."
   ]
  },
  {
   "cell_type": "markdown",
   "metadata": {},
   "source": [
    "We strongly recommend to make a seprate python3 environment for this workshop. \n",
    "Here is a guide to make python enviournmens:\n",
    "- Making a python enviournment\n",
    "  https://uoa-eresearch.github.io/eresearch-cookbook/recipe/2014/11/26/python-virtual-env/\n",
    "- making an enviournment with conda: \n",
    "  https://docs.conda.io/projects/conda/en/latest/user-guide/tasks/manage-environments.html\n",
    "  \n",
    "  Using conda for windows users might save a lot of efforts. "
   ]
  },
  {
   "cell_type": "markdown",
   "metadata": {},
   "source": [
    "**Here are a few important notes before we get started:-**\n",
    "- python3 environment is recommended for this workshop with the following modeules insatlled: (you can also make use of conda to make such an environment.)\n",
    "- numpy\n",
    "- matplotlib\n",
    "- subprocess\n",
    "- astropy\n",
    "- photutils\n",
    "- astroquery\n",
    "\n",
    "If any of these modules are not installed, a simple pip insatll might do the job. i.e.  `pip install <module>`. You can also use conda to install these modules if you are working in a conda environment. If you are working with conda environment, you might want to make sure that your environment is active and pip is insatlled within your working conda environment to your conda environment\n",
    "\n",
    "**We also require a few additional astrometic software dependency :-**\n",
    "- SExtractor\n",
    "- PSFEx\n"
   ]
  },
  {
   "cell_type": "code",
   "execution_count": null,
   "metadata": {},
   "outputs": [],
   "source": [
    "# ! pip install astroquery\n",
    "# ! pip install astroscrappy\n",
    "# ! pip install astropy\n",
    "# ! sudo apt-get install psfex\n",
    "# ! sudo add-apt-repository universe\n",
    "# ! sudo apt-get install alien\n",
    "# ! wget http://www.astromatic.net/download/sextractor/sextractor-2.19.5-1.x86_64.rpm\n",
    "# ! alien -i sextractor-2.19.5-1.x86_64.rpm\n",
    "# ! pip install photutils"
   ]
  },
  {
   "cell_type": "code",
   "execution_count": null,
   "metadata": {
    "scrolled": true
   },
   "outputs": [],
   "source": [
    "import os\n",
    "import glob\n",
    "import numpy as np\n",
    "import warnings\n",
    "warnings.filterwarnings(\"ignore\")\n",
    "import astropy.units as u\n",
    "from astropy.io import ascii\n",
    "from astropy.coordinates import SkyCoord\n",
    "from astropy.wcs import WCS\n",
    "from astropy.stats import sigma_clipped_stats, sigma_clip\n",
    "from astropy.io import fits\n",
    "import subprocess\n",
    "from astroquery.vizier import Vizier\n",
    "from photutils import SkyCircularAperture, SkyCircularAnnulus, aperture_photometry\n",
    "import matplotlib.pyplot as plt\n",
    "import astroscrappy\n",
    "%matplotlib inline"
   ]
  },
  {
   "cell_type": "code",
   "execution_count": null,
   "metadata": {},
   "outputs": [],
   "source": [
    "def check_dependency(dep, i, alternate_names):\n",
    "    try:\n",
    "        subprocess.check_output(dep, stderr=subprocess.PIPE, shell=True)\n",
    "        print(\"{} is installed as {}.\".format(dep, dep))\n",
    "        return 0\n",
    "    except:\n",
    "        try:\n",
    "            subprocess.check_output(alternate_names[i], stderr=subprocess.PIPE, shell=True)\n",
    "            print(\"{} is installed as {}.\".format(dep, alternate_names[i]))\n",
    "            return 0\n",
    "    \n",
    "        except subprocess.CalledProcessError:\n",
    "            output = \"{} is not installed properly.\".format(dep)\n",
    "            n_len = len(output)\n",
    "            print(\"%s\"%(\"-\" * n_len))\n",
    "            print(output)\n",
    "            print(\"%s\"%(\"-\" * n_len))\n",
    "            return 1\n",
    "    \n",
    "dependencies = ['sextractor','psfex']\n",
    "Alt_names = ['sex', 'PSFEx']\n",
    "for i, dep in enumerate(dependencies):\n",
    "    status = check_dependency(dep, i, Alt_names)\n",
    "    if status != 0:\n",
    "        print(\"Dependency is not insatlled properly. Please check for alternative names for dependency or contact the tutors for help.\")\n",
    "else:\n",
    "    print(\"All set. Let's fly :-) \")"
   ]
  },
  {
   "cell_type": "code",
   "execution_count": null,
   "metadata": {},
   "outputs": [],
   "source": []
  }
 ],
 "metadata": {
  "kernelspec": {
   "display_name": "Python 3",
   "language": "python",
   "name": "python3"
  },
  "language_info": {
   "codemirror_mode": {
    "name": "ipython",
    "version": 3
   },
   "file_extension": ".py",
   "mimetype": "text/x-python",
   "name": "python",
   "nbconvert_exporter": "python",
   "pygments_lexer": "ipython3",
   "version": "3.7.3"
  }
 },
 "nbformat": 4,
 "nbformat_minor": 2
}
