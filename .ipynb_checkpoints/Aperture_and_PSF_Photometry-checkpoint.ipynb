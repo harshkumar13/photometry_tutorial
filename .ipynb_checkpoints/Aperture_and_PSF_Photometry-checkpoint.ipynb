{
 "cells": [
  {
   "cell_type": "markdown",
   "metadata": {
    "id": "Bhzd-uuG2X7D"
   },
   "source": [
    "# Aperture Photometry Tutorial"
   ]
  },
  {
   "cell_type": "markdown",
   "metadata": {
    "id": "-kGbwW_C2X7L"
   },
   "source": [
    "Tutorial by:-  <br>\n",
    "**Harsh Kumar** (Graduate student @ Indian Institute of Techonology, Bombay (IITB), LSSTC Data Science Fellow)<br>\n",
    "**Gaurav Waratkar** (Graduate student @ Indian Institute of Techonology, Bombay (IITB))<br>"
   ]
  },
  {
   "cell_type": "markdown",
   "metadata": {
    "id": "q70KEOCI2X7L"
   },
   "source": [
    "## Main Motive\n",
    " Measuring brightness of astronomical sources i.e. Understanding the concept of photometry.\n",
    "\n",
    "## Key steps\n",
    "- Extracting sources form image.\n",
    "- Cross-match with some external catalogue to get Zeropoints.\n",
    "- Calculating magnitudes using aperture photometry standardising the magnitudes.\n",
    "- Performing PSF-fit photometry."
   ]
  },
  {
   "cell_type": "markdown",
   "metadata": {
    "id": "WRg2si4Z2X7M"
   },
   "source": [
    "**Here are a few important notes before we get started:-**\n",
    "- python3 environment is recommended for this notebook with the following modeules installed: (you can also make use of conda to make such an environment.)\n",
    "- numpy\n",
    "- matplotlib\n",
    "- astropy\n",
    "- photutils\n",
    "- astroquery\n",
    "\n",
    "If any of these modules are not installed, a simple pip insatll might do the job. i.e.  `pip install <module>`. You can also use conda to install these modules if you are working in a conda environment. If you are working with conda environment, you might want to make sure that your environment is active and pip is installed within your working conda environment to your conda environment\n",
    "\n",
    "**We also require a few additional astrometic software dependency :-**\n",
    "- SExtractor (source code Download link: https://www.astromatic.net/software)\n",
    "- PSFEx    (source code Download link:  https://www.astromatic.net/software)\n",
    "\n"
   ]
  },
  {
   "cell_type": "markdown",
   "metadata": {
    "id": "y9alnhBj2X7M"
   },
   "source": [
    "## Let's get started"
   ]
  },
  {
   "cell_type": "markdown",
   "metadata": {
    "id": "l8NLTZ1e2X7N"
   },
   "source": [
    "Once again we start by importing necessary python modules. Do not run the next cell if you have all packages installed. "
   ]
  },
  {
   "cell_type": "markdown",
   "metadata": {
    "ExecuteTime": {
     "start_time": "2021-07-18T10:20:36.991Z"
    },
    "id": "AAoP_QYY2X7N"
   },
   "source": [
    "! pip install astroquery\n",
    "! pip install astroscrappy\n",
    "! pip install astropy\n",
    "! sudo apt-get install psfex\n",
    "! sudo add-apt-repository universe\n",
    "! sudo apt-get install alien\n",
    "! wget http://www.astromatic.net/download/sextractor/sextractor-2.19.5-1.x86_64.rpm\n",
    "! alien -i sextractor-2.19.5-1.x86_64.rpm\n",
    "! pip install photutils"
   ]
  },
  {
   "cell_type": "code",
   "execution_count": null,
   "metadata": {
    "id": "xkiW3RLk2X7P"
   },
   "outputs": [],
   "source": [
    "import os\n",
    "import glob\n",
    "import numpy as np \n",
    "import warnings\n",
    "warnings.filterwarnings(\"ignore\")\n",
    "import matplotlib.pyplot as plt\n",
    "import subprocess\n",
    "import astropy.units as u\n",
    "from astropy.io import fits\n",
    "from astropy.table import Table\n",
    "from astropy.stats import sigma_clipped_stats, sigma_clip\n",
    "from photutils import SkyCircularAperture, SkyCircularAnnulus, aperture_photometry\n",
    "from astroquery.vizier import Vizier\n",
    "from astropy.io import ascii\n",
    "from astropy.wcs import WCS\n",
    "from astropy.coordinates import SkyCoord\n",
    "from astropy.table import Table\n",
    "from tqdm import tqdm_notebook as tqdm"
   ]
  },
  {
   "cell_type": "code",
   "execution_count": null,
   "metadata": {
    "id": "7pehXK9h43Hc"
   },
   "outputs": [],
   "source": [
    "def check_dependency(dep, i, alternate_names):\n",
    "    try:\n",
    "        subprocess.check_output(dep, stderr=subprocess.PIPE, shell=True)\n",
    "        print(\"{} is installed as {}.\".format(dep, dep))\n",
    "        return 0\n",
    "    except:\n",
    "        try:\n",
    "            subprocess.check_output(alternate_names[i], stderr=subprocess.PIPE, shell=True)\n",
    "            print(\"{} is installed as {}.\".format(dep, alternate_names[i]))\n",
    "            return 0\n",
    "    \n",
    "        except subprocess.CalledProcessError:\n",
    "            output = \"{} is not installed properly.\".format(dep)\n",
    "            n_len = len(output)\n",
    "            print(\"%s\"%(\"-\" * n_len))\n",
    "            print(output)\n",
    "            print(\"%s\"%(\"-\" * n_len))\n",
    "            return 1\n",
    "    \n",
    "dependencies = ['sextractor','psfex']\n",
    "Alt_names = ['sex', 'PSFEx']\n",
    "for i, dep in enumerate(dependencies):\n",
    "    status = check_dependency(dep, i, Alt_names)\n",
    "    if status != 0:\n",
    "        print(\"Dependency is not insatlled properly. Please check for alternative names for dependency or contact the tutors for help.\")\n",
    "else:\n",
    "    print(\"All set. Let's fly :-) \")"
   ]
  },
  {
   "cell_type": "code",
   "execution_count": null,
   "metadata": {
    "id": "jGRQxjvQ2X7P"
   },
   "outputs": [],
   "source": [
    "## Simple decorative display function. Please ignore\n",
    "class color:\n",
    "    PURPLE = '\\033[95m'\n",
    "    CYAN = '\\033[96m'\n",
    "    DARKCYAN = '\\033[36m'\n",
    "    BLUE = '\\033[94m'\n",
    "    GREEN = '\\033[92m'\n",
    "    YELLOW = '\\033[93m'\n",
    "    RED = '\\033[91m'\n",
    "    BOLD = '\\033[1m'\n",
    "    UNDERLINE = '\\033[4m'\n",
    "    END = '\\033[0m'\n",
    "    \n",
    "def display_text(text):\n",
    "    print( color.GREEN + '*'+'-'*(10+len(text))+'*' )\n",
    "    print('*'+('-'*3)+(' '*2)+ color.GREEN+ color.PURPLE+str(text)+ color.GREEN+(' '*2)+('-'*3)+'*')\n",
    "    print('*'+'-'*(10+len(text))+'*' +\"\\n\") \n",
    "    \n",
    "def wait_request():\n",
    "    print('This step may take a while. Please wait 🙏.\\n')"
   ]
  },
  {
   "cell_type": "markdown",
   "metadata": {
    "id": "4aHt-p5y2X7Q"
   },
   "source": [
    "In our last notebook, we have calibrated data and made it ready for the actual science purpose. It's time to use that. Do you remember where that data is ? Let's start by finding the calibrated data. All the calibrated / reduced data sits in reduced directory. So, reduced path will be the the one to go for in most of our processes in this notebook.  "
   ]
  },
  {
   "cell_type": "markdown",
   "metadata": {
    "id": "6O7GgRQP32nz"
   },
   "source": [
    "# mounting google drive to import data files\n",
    "from google.colab import drive\n",
    "drive.mount('/content/drive', force_remount=True)"
   ]
  },
  {
   "cell_type": "code",
   "execution_count": null,
   "metadata": {
    "id": "-uRBgwq92X7Q"
   },
   "outputs": [],
   "source": [
    "##Finding data 🧐\n",
    "\n",
    "cwd = \"/content/drive/MyDrive\"\n",
    "science_path = os.path.join(cwd,'data','science')\n",
    "reduced_path = os.path.join(cwd,'reduced')  # all preocessed data sit here. "
   ]
  },
  {
   "cell_type": "markdown",
   "metadata": {
    "id": "kJCaRd7s2X7R"
   },
   "source": [
    "- Visualise the image to confirm that we are working with the correct data. Check whether it looks good or not. We have a few images available. You are free to use any of the image in theory. But, let's use the same image to compare the results. "
   ]
  },
  {
   "cell_type": "code",
   "execution_count": null,
   "metadata": {
    "id": "2ItfbdhF2X7R"
   },
   "outputs": [],
   "source": [
    "os.chdir(reduced_path)\n",
    "file_list = glob.glob(\"*.proc.fits\")\n",
    "print(\"found following {} files: {}\".format(len(file_list), file_list))"
   ]
  },
  {
   "cell_type": "markdown",
   "metadata": {
    "ExecuteTime": {
     "end_time": "2021-07-18T10:25:03.733766Z",
     "start_time": "2021-07-18T10:25:03.727194Z"
    },
    "id": "IT-fuPMy2X7R"
   },
   "source": [
    "# EXERCISE 2: DISPLAY THE IMAGE  USING plt.imshow\n",
    "\n",
    "\n"
   ]
  },
  {
   "cell_type": "code",
   "execution_count": null,
   "metadata": {
    "ExecuteTime": {
     "end_time": "2021-07-18T10:28:15.283119Z",
     "start_time": "2021-07-18T10:28:15.278936Z"
    }
   },
   "outputs": [],
   "source": [
    "## Your code here ##"
   ]
  },
  {
   "cell_type": "markdown",
   "metadata": {
    "id": "tU4rm1qF2X7S"
   },
   "source": [
    "# Photometry :  Photo (photons) + metry (measurement)\n",
    "It's a technique by which we measure the Flux or intensity of the light emiited by a source. In other words, it is a method to measure the brightness of sources. We detect photons from the source onto a CCD camera and measure the number of photon collected in a given time. An estimation of photon flux from any particular source gives us its brightness. In astronomy we represents it in terms of magnitude of a source. Magnitude is represented as:\n",
    "\n",
    "<center>\n",
    "  m = -2.5 * log10(Flux)\n",
    "</center>     \n",
    "\n",
    "Here `m` is called \"instrumental magnitude of a source\". As we can see from the formula that it depends on Flux i.e.  number of photons collected by camera for a particular source. Number of photons collected by camera greatly depends on its specification and telescope assembly. Hence, this magnitude cooresponds to a particular camera assembly. Different cameras may register different Flux for the same source depending on various factors. Hence, the instrumental magnitude may vary with camera. As instrumental magnitude is not a standard thing we cannot use it directly on global scale. Therefore, we have to standardise it. We will do that later. Let's first understand how to estimate the instrumental magnitude."
   ]
  },
  {
   "cell_type": "code",
   "execution_count": null,
   "metadata": {},
   "outputs": [],
   "source": []
  },
  {
   "cell_type": "markdown",
   "metadata": {
    "id": "F_DnoLo12X7S"
   },
   "source": [
    "# Two types of photometry:\n",
    "\n",
    "## Aperture Photometry and PSF fit photometry"
   ]
  },
  {
   "cell_type": "markdown",
   "metadata": {
    "id": "0I2N9YVz2X7S"
   },
   "source": [
    "# Extracting sources from image\n",
    "Now, we will extract sources from our image using `SExtractor`. `SExtractor` is a very versatile software, widely used by Astro commnunity for detecting sources from a fits images. Along with detecting sources it can also perform aperture and PSF photometry on sources if provided necessary parameters. These parameters are usally stored in the configuration file. `SExtractor` sources detection methods has been trained on various telescope images and are quite reliable. Although there exist better algorithms to perform photometry on sources, hardly any other software is as reliable as `SExtractor` in detecting sources. You can read more about `SExtractor` at  https://sextractor.readthedocs.io/en/latest/Introduction.html and https://www.astromatic.net/pubsvn/software/sextractor/trunk/doc/sextractor.pdf .\n",
    "\n"
   ]
  },
  {
   "cell_type": "code",
   "execution_count": null,
   "metadata": {
    "id": "VS4KgNI82X7T"
   },
   "outputs": [],
   "source": [
    "# Let's define input and output file names\n",
    "conf_file = 'config.sex'      # configuration file for SExtractor. This files consist of values of differet params\n",
    "parameter_file = 'apr.param'  # parameter file which tells what params to be stored in catalogue file. \n",
    "out_cat = image + \".cat\"      # Resulted catalogue from SExtractor consisting the sources info in the image."
   ]
  },
  {
   "cell_type": "code",
   "execution_count": null,
   "metadata": {
    "id": "LJc2sLMJ2X7T"
   },
   "outputs": [],
   "source": [
    "command =  ['sex', image, '-c', conf_file, '-CATALOG_NAME', out_cat, '-PARAMETERS_NAME', parameter_file]\n",
    "print('SExtrator command is : %s' % command)\n",
    "try:\n",
    "    display_text(\"Running SExtractor\")\n",
    "    rval = subprocess.call(command)\n",
    "    display_text(\"Process complete\")\n",
    "except subprocess.CalledProcessError as err:\n",
    "    print('An error occuered while running SExtractor. Please try to run it manually through terminal.')\n",
    "    sys.exit(1)"
   ]
  },
  {
   "cell_type": "code",
   "execution_count": null,
   "metadata": {
    "id": "zS1ZMcUw2X7T"
   },
   "outputs": [],
   "source": [
    "def load_catalogue(catalogue, frames=1):\n",
    "    \"\"\"\n",
    "    Load the sextractor generated catalogue in form of an astropy table.\n",
    "    \"\"\"\n",
    "    if frames >0:\n",
    "        frames = frames*2\n",
    "    source_table= Table.read(catalogue, hdu=frames)\n",
    "    return source_table"
   ]
  },
  {
   "cell_type": "code",
   "execution_count": null,
   "metadata": {
    "id": "5W0sm-CO2X7U"
   },
   "outputs": [],
   "source": [
    "local_sources = load_catalogue(out_cat)\n",
    "print(local_sources.colnames)\n",
    "print(local_sources)"
   ]
  },
  {
   "cell_type": "markdown",
   "metadata": {
    "id": "NB8GzFwj2X7V"
   },
   "source": [
    "# Source selection\n",
    "Let's select the good sources from the sextrator catalogue. SExtractor flags the sources using 8 flag bits depending on various factors. You can read about the SExtrator flags in details here: https://sextractor.readthedocs.io/en/latest/Flagging.html"
   ]
  },
  {
   "cell_type": "code",
   "execution_count": null,
   "metadata": {
    "id": "6hj2cuv62X7V"
   },
   "outputs": [],
   "source": [
    "unflagged_sources = local_sources[(local_sources['FLAGS'] == 0)]\n",
    "print((unflagged_sources))"
   ]
  },
  {
   "cell_type": "code",
   "execution_count": null,
   "metadata": {
    "ExecuteTime": {
     "end_time": "2021-07-18T10:25:57.608779Z",
     "start_time": "2021-07-18T10:25:57.213405Z"
    },
    "id": "a9JYeGSQ2X7V"
   },
   "outputs": [],
   "source": [
    "from matplotlib.patches import Circle\n",
    "fig = plt.figure(figsize=(20,20))\n",
    "ax = fig.gca()\n",
    "plt.imshow(data, vmin=med-3*std, vmax=med+3*std)\n",
    "\n",
    "# Let's see where these sources fall in out image. \n",
    "stars = [Circle((obj['XWIN_IMAGE'], obj['YWIN_IMAGE']), radius = 15, edgecolor='w', facecolor='None') for obj in unflagged_sources]\n",
    "for star in stars:\n",
    "    ax.add_artist(star)\n",
    "plt.show()"
   ]
  },
  {
   "cell_type": "code",
   "execution_count": null,
   "metadata": {
    "id": "bJB8RIxW2X7W"
   },
   "outputs": [],
   "source": [
    "w = WCS(header)\n",
    "[ra_cent, dec_cent] = w.all_pix2world(header[\"NAXIS2\"]/2, header[\"NAXIS1\"]/2, 1)   # centeral ra dec of the image.\n",
    "query_radius = 23 # catalogue query radius around central ra dec in arcmins.\n",
    "minmag = 14    # maximum magnitude cut to get rid of very bright stars\n",
    "maxmag = 18    # minimum magnitude cut to get rid of very faint stars    \n",
    "\n",
    "# Keep in mind: more the magnitude of the star, less brighter it is.\n",
    "\n",
    "pan_catnum = \"II/349\"  #This is the catalog number of PanSTARRS DR1 in Vizier.\n",
    "#  Use 'V/147' to query SDSS catalogue in Vizier. You have to replace colomn header names in last line as those are different for SDSS.\n",
    "\n",
    "display_text('Making a vizier query for %s catalogue number in %.f arcmin radius around Ra %.5f, Dec %.5f'%(pan_catnum, query_radius, ra_cent, dec_cent))\n",
    "wait_request()\n",
    "try:\n",
    "    v = Vizier(columns=['*'], column_filters={\"gmag\":\"<%.1f\"%maxmag, \"e_gmag\":\"<<1.086/3\", \"Nd\":\">6\"}, row_limit=-1)\n",
    "    Q = v.query_region(SkyCoord(ra = ra_cent, dec = dec_cent, unit = (u.deg, u.deg)), radius = str(query_radius)+'m', catalog=pan_catnum, cache=False)\n",
    "    good_stars = Q[0][Q[0]['gmag'] > minmag]  # Neglecting very bright stars from the queried catalogue.\n",
    "    print(\"\\n\\n Vizier query resulted %.f sources in the queried field after applying the mentioned filtering criteria.\"%len(good_stars))\n",
    "except:\n",
    "    print('An error occured in querying vizier database. Please check whether your internet conection is working or not.')\n",
    "\n",
    "# Convert the queried source positions to image pixel position using world2pix conversion for later use.\n",
    "cat_localcoords = w.all_world2pix(good_stars['RAJ2000'], good_stars['DEJ2000'], 1) # position of queried sources in the image."
   ]
  },
  {
   "cell_type": "code",
   "execution_count": null,
   "metadata": {
    "id": "A0Adjg922X7X"
   },
   "outputs": [],
   "source": [
    "print(good_stars)"
   ]
  },
  {
   "cell_type": "markdown",
   "metadata": {
    "id": "Vr9XIT-E2X7X"
   },
   "source": [
    "# Exercise time!"
   ]
  },
  {
   "cell_type": "markdown",
   "metadata": {
    "id": "DOMhjGTU2X7X"
   },
   "source": [
    "### Plot where the queried surces lies in the image. You will have to do something like we did for the case of unflagged sources.  Add a cell below for the same.\n"
   ]
  },
  {
   "cell_type": "code",
   "execution_count": null,
   "metadata": {
    "id": "3mjbgt9C2X7Y"
   },
   "outputs": [],
   "source": [
    "fig = plt.figure(figsize=(10,10))\n",
    "ax = fig.gca()\n",
    "plt.imshow()\n",
    "circles = \n",
    "\n",
    "plt.show()"
   ]
  },
  {
   "cell_type": "code",
   "execution_count": null,
   "metadata": {
    "id": "aYeO7oz82X7Y"
   },
   "outputs": [],
   "source": [
    "local_catcoords = SkyCoord(ra=unflagged_sources['ALPHAWIN_J2000'], dec=unflagged_sources['DELTAWIN_J2000'], frame='icrs', unit='degree')\n",
    "pan_catcoords = SkyCoord(ra=good_stars['RAJ2000'], dec=good_stars['DEJ2000'], frame='icrs', unit='degree')\n",
    "\n",
    "photoDistThresh = 0.676   # cross-match radius\n",
    "pan_idx, local_idx, d2d, d3d = local_catcoords.search_around_sky(pan_catcoords, photoDistThresh*u.arcsec)\n",
    "\n",
    "print('Found %d good cross-matches'%len(local_idx))"
   ]
  },
  {
   "cell_type": "code",
   "execution_count": null,
   "metadata": {
    "id": "Xkt7y12s2X7Y"
   },
   "outputs": [],
   "source": [
    "medFWHM = (np.median(unflagged_sources['FWHM_WORLD'][local_idx])* 3600)/0.676\n",
    "print(\"median FWHM of the image is: %.2f pixels\"%(medFWHM))"
   ]
  },
  {
   "cell_type": "code",
   "execution_count": null,
   "metadata": {
    "id": "UYb9e8y_2X7Y"
   },
   "outputs": [],
   "source": [
    "a_max =int(np.round((2*medFWHM), 0))\n",
    "print(a_max)\n",
    "\n",
    "aperture_diameter = np.arange(5,a_max+1)\n",
    "print(aperture_diameter)\n",
    "print(len(aperture_diameter), len(local_idx))\n",
    "zero_points = []\n",
    "for i in range(len(aperture_diameter)):\n",
    "    offsets = np.ma.array(good_stars['gmag'][pan_idx] - unflagged_sources['MAG_APER'][:,i][local_idx])\n",
    "    zero_mean, zero_med, zero_std = sigma_clipped_stats(offsets)\n",
    "    zp_dict = {'diameter': aperture_diameter[i], 'zp_mean': np.round(zero_mean,3), 'zp_median': np.round(zero_med,3), 'zp_std': np.round(zero_std, 3)}\n",
    "    zero_points.append(zp_dict)\n",
    "    print(zp_dict)"
   ]
  },
  {
   "cell_type": "code",
   "execution_count": null,
   "metadata": {
    "id": "Yzju0IJW2X7Z"
   },
   "outputs": [],
   "source": [
    "# Let's see how good or bad is the ZP estimation is.\n",
    "plt.scatter(np.arange(len(offsets)), offsets, alpha = 0.2)\n",
    "plt.axhline(zero_med, color= 'r', linestyle = '--')"
   ]
  },
  {
   "cell_type": "markdown",
   "metadata": {
    "id": "VNw5lbbs2X7Z"
   },
   "source": [
    "You can also check the relationship between instric magnitude and magnitude from panSTARRS. They should follow a linear trend.\n",
    "\n",
    "# So, this brings us to the next Exercise!\n",
    "\n",
    "#### Plot the instrinsic magnitude Vs ps1 magniudes and see if they follow a linear trend or not.  "
   ]
  },
  {
   "cell_type": "code",
   "execution_count": null,
   "metadata": {
    "id": "ERwDFxy42X7Z"
   },
   "outputs": [],
   "source": [
    "# Exercise 2 solution here: \n",
    "plt.figure(figsize=(8,8))\n",
    "plt.scatter()\n",
    "plt.scatter()\n",
    "plt.xlabel('PanSTARRS mag', fontsize=20)\n",
    "plt.ylabel('Instrumental psf mag', fontsize=20)\n",
    "plt.ylim()\n",
    "plt.legend()\n",
    "plt.show()"
   ]
  },
  {
   "cell_type": "code",
   "execution_count": null,
   "metadata": {
    "id": "QK5U_Tft2X7Z"
   },
   "outputs": [],
   "source": [
    "ra = 324.8157058   # RA of the source\n",
    "dec = 46.7339800   # Dec of the source\n",
    "\n",
    "position = SkyCoord(ra = ra, dec = dec, unit = u.deg, frame = 'icrs')\n",
    "\n",
    "radii_max =int(np.round(medFWHM, 0))\n",
    "aperture_radii= np.arange(1,radii_max+1)\n",
    "print(aperture_radii)\n",
    "apertures = [SkyCircularAperture(position, r = r * u.pix) for r in aperture_radii]\n",
    "pix_apertures = [a.to_pixel(w) for a in apertures]\n",
    "\n",
    "phot_table = aperture_photometry(data, pix_apertures)\n",
    "for col in phot_table.colnames:\n",
    "    phot_table[col].info.format = '%.8g'\n",
    "print(phot_table)"
   ]
  },
  {
   "cell_type": "code",
   "execution_count": null,
   "metadata": {
    "id": "UFUS_1kI2X7Z"
   },
   "outputs": [],
   "source": [
    "# Create the annulus aperture for background estimation\n",
    "anuRadius = int(np.round(4*medFWHM, 0))\n",
    "anuWidth =  3\n",
    "\n",
    "annulus_aperture = SkyCircularAnnulus(position, r_in = anuRadius * u.pix, r_out = (anuRadius + anuWidth) * u.pix)\n",
    "pix_annulus_aperture = annulus_aperture.to_pixel(w)\n",
    "\n",
    "#Measuring the flux inside an aperture annulus\n",
    "error = np.sqrt(data)  # error array for each pixel value.\n",
    "annulus_phot_table = aperture_photometry(data, pix_annulus_aperture, error = error)\n",
    "for col in annulus_phot_table.colnames:\n",
    "        annulus_phot_table[col].info.format = '%.8g'\n",
    "#print the output\n",
    "print(annulus_phot_table)"
   ]
  },
  {
   "cell_type": "code",
   "execution_count": null,
   "metadata": {
    "id": "x6F_Plph2X7a"
   },
   "outputs": [],
   "source": [
    "bkg_mean = annulus_phot_table['aperture_sum'] / pix_annulus_aperture.area\n",
    "bkg_flux = bkg_mean * pix_apertures[-1].area\n",
    "print('aperture_sum_%d'%i)\n",
    "source_flux = phot_table['aperture_sum_%d'%(radii_max-1)] - bkg_flux\n",
    "int_mag_err=2.5*np.log10(1 + annulus_phot_table['aperture_sum_err'] / source_flux)\n",
    "e_mag= np.sqrt(int_mag_err**2+zero_points[-1]['zp_std']**2)\n",
    "source_mag = zero_points[-1]['zp_median'] - 2.5 * np.log10(source_flux)\n",
    "print('Found source magnitude of %.2f +/- %0.2f for aperture of radius %d pixels'%(source_mag, e_mag, aperture_radii[-1]))"
   ]
  },
  {
   "cell_type": "markdown",
   "metadata": {
    "id": "Lm16QGZi2X7a"
   },
   "source": [
    "# PSF-fit photometry:\n"
   ]
  },
  {
   "cell_type": "code",
   "execution_count": null,
   "metadata": {
    "id": "GiHCQJX82X7a"
   },
   "outputs": [],
   "source": [
    "psf_config = 'config.psfex'\n",
    "psfex_command =  ['psfex', '-c', psf_config, out_cat]\n",
    "print('PSFEx command is : %s'%psfex_command)\n",
    "try:\n",
    "    display_text(\"Running PSFEx\")\n",
    "    wait_request()\n",
    "    rval = subprocess.call(psfex_command)\n",
    "    display_text(\"Process complete\")\n",
    "except subprocess.CalledProcessError as err:\n",
    "    print('An error occuered while running PSFEx on %s. Please try to run it manually through terminal.'%image)\n",
    "    sys.exit(1)"
   ]
  },
  {
   "cell_type": "code",
   "execution_count": null,
   "metadata": {
    "id": "eDWI8pwV2X7a"
   },
   "outputs": [],
   "source": [
    "psf_hdu = fits.open('moffat_'+image+'.fits')[0]\n",
    "psf_data = psf_hdu.data\n",
    "psf_mean, psf_median, psf_std = sigma_clipped_stats(psf_data)\n",
    "plt.figure(figsize=(6,6))\n",
    "plt.imshow(psf_data, vmin = psf_median - 3*psf_std, vmax = psf_median + 10*psf_std)\n",
    "plt.show()"
   ]
  },
  {
   "cell_type": "code",
   "execution_count": null,
   "metadata": {
    "id": "olr0Khsj2X7a"
   },
   "outputs": [],
   "source": [
    "psf_model = image + '.psf'\n",
    "out_psfcat = image+'.psf.cat'\n",
    "parameter_file = 'photomPSF.param'  # psf photometry parameter file for SExtrator\n",
    "\n",
    "# Let's run sextrator again. But, this time with psf model as input to perform psf photometry.\n",
    "command = ['sex', image, '-c', conf_file, '-CATALOG_NAME', out_psfcat, '-PARAMETERS_NAME', parameter_file, '-PSF_NAME', psf_model]  \n",
    "try:\n",
    "    display_text(\"Running SExtractor\")\n",
    "    wait_request()\n",
    "    rval = subprocess.call(command)\n",
    "    display_text(\"Process complete\")\n",
    "except subprocess.CalledProcessError as err:\n",
    "    print('An error occuered while running SExtractor. Please try to run it manually through terminal.')\n",
    "    sys.exit(1)"
   ]
  },
  {
   "cell_type": "code",
   "execution_count": null,
   "metadata": {
    "id": "8Kn42dHZ2X7b"
   },
   "outputs": [],
   "source": [
    "local_psfsources = load_catalogue(out_psfcat)\n",
    "\n",
    "# Spend a minute on comparing the new and older sextrator catalogue table columns and see what now in recent catalogue.\n",
    "print(local_psfsources.colnames)\n",
    "\n",
    "print(\"\\n\\nFound {} sources\".format(len(local_psfsources)))"
   ]
  },
  {
   "cell_type": "code",
   "execution_count": null,
   "metadata": {
    "id": "mIgfymkS2X7b"
   },
   "outputs": [],
   "source": [
    "# Selecting good sources:\n",
    "unflagged_psfsources = local_psfsources[(local_psfsources['FLAGS']==0) & (local_psfsources['FLAGS_MODEL']==0)  & (local_psfsources['FWHM_WORLD']*3600 < 5)]"
   ]
  },
  {
   "cell_type": "code",
   "execution_count": null,
   "metadata": {
    "id": "EgYxolQi2X7b"
   },
   "outputs": [],
   "source": [
    "local_psf_catcoords = SkyCoord(ra=unflagged_psfsources['ALPHAWIN_J2000'], dec=unflagged_psfsources['DELTAWIN_J2000'], frame='icrs', unit='degree')\n",
    "cross_match_radius = 0.676\n",
    "local_psfidx, pan_psfidx, d2d, d3d = pan_catcoords.search_around_sky(local_psf_catcoords, cross_match_radius*u.arcsec)\n",
    "\n",
    "print('Found %d good cross-matches'%len(local_psfidx))"
   ]
  },
  {
   "cell_type": "code",
   "execution_count": null,
   "metadata": {
    "id": "jkjRXygx2X7b"
   },
   "outputs": [],
   "source": [
    "plt.figure(figsize=(8,8))\n",
    "plt.plot(good_stars['gmag'][ pan_psfidx], unflagged_psfsources['MAG_POINTSOURCE'][local_psfidx] , 'go', alpha = 0.5)\n",
    "plt.xlabel('PanSTARRS mag', fontsize=20)\n",
    "plt.ylabel('Instrumental psf mag', fontsize=20)\n",
    "plt.ylim(-12.5, -8)\n",
    "plt.show()"
   ]
  },
  {
   "cell_type": "code",
   "execution_count": null,
   "metadata": {
    "id": "Av9WkNBh2X7b"
   },
   "outputs": [],
   "source": [
    "# Get the zeropoint of the image by crossd matching the psf photometry of sources. \n",
    "psfoffsets = np.ma.array(good_stars['gmag'][ pan_psfidx] - unflagged_psfsources['MAG_POINTSOURCE'][local_psfidx])\n",
    "zp_psfmean, zp_psfmed, zp_psfstd = sigma_clipped_stats(psfoffsets)\n",
    "print('PSF mean zp: %.3f, PSF median zp: %.3f,  PSF std zp: %.3f'%(zp_psfmean, zp_psfmed, zp_psfstd))"
   ]
  },
  {
   "cell_type": "code",
   "execution_count": null,
   "metadata": {
    "id": "MHj9_vsu2X7c"
   },
   "outputs": [],
   "source": [
    "target_coords = SkyCoord(ra=[ra], dec=[dec], frame='icrs', unit='degree')\n",
    "idx_target, local_idx_psf_target, d2d, d3d = local_psf_catcoords.search_around_sky(target_coords, cross_match_radius*u.arcsec)\n",
    "if len(local_idx_psf_target) > 0:\n",
    "    print('Source found in SExtrator catalogue')\n",
    "else:\n",
    "    print(\"Unable to locate source in SExtrator catalogue\")\n",
    "\n",
    "int_psf_mag = unflagged_psfsources[local_idx_psf_target]['MAG_POINTSOURCE'][0]\n",
    "int_psf_magerr = unflagged_psfsources[local_idx_psf_target]['MAGERR_POINTSOURCE'][0]\n",
    "\n",
    "psfmag =  int_psf_mag + zp_psfmed\n",
    "e_psfmag = np.sqrt(int_psf_magerr**2 + zp_psfstd**2)"
   ]
  },
  {
   "cell_type": "code",
   "execution_count": null,
   "metadata": {
    "id": "8ylMv2aX2X7c"
   },
   "outputs": [],
   "source": [
    "print('PSF magnitude of target is %.2f +/- %.2f'%(psfmag, e_psfmag))"
   ]
  },
  {
   "cell_type": "markdown",
   "metadata": {
    "id": "7VqPbGCD2X7c"
   },
   "source": [
    "# Need of Image subtraction\n"
   ]
  },
  {
   "cell_type": "markdown",
   "metadata": {
    "id": "0P3FWQMg2X7c"
   },
   "source": [
    "![Screenshot%202020-12-15%20at%204.45.29%20PM.png](attachment:Screenshot%202020-12-15%20at%204.45.29%20PM.png)"
   ]
  },
  {
   "cell_type": "markdown",
   "metadata": {
    "id": "WjW6J7_-2X7c"
   },
   "source": [
    "# Try it out yourself!"
   ]
  },
  {
   "cell_type": "code",
   "execution_count": null,
   "metadata": {},
   "outputs": [],
   "source": []
  }
 ],
 "metadata": {
  "colab": {
   "name": "Aperture and PSF Photometry.ipynb",
   "provenance": []
  },
  "kernelspec": {
   "display_name": "Python 3",
   "language": "python",
   "name": "python3"
  },
  "language_info": {
   "codemirror_mode": {
    "name": "ipython",
    "version": 3
   },
   "file_extension": ".py",
   "mimetype": "text/x-python",
   "name": "python",
   "nbconvert_exporter": "python",
   "pygments_lexer": "ipython3",
   "version": "3.7.3"
  }
 },
 "nbformat": 4,
 "nbformat_minor": 1
}
